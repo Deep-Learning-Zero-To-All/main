{
 "cells": [
  {
   "cell_type": "markdown",
   "metadata": {},
   "source": [
    "## Tips\n",
    "    - 지금까지 강의를 들으면서 이해가 어려웠던 부분들을 설명한다.\n",
    "1. Reminder: 최대 가능도 추정(Maximum Likelihood Estimation)\n",
    "2. Reminder: Optimization via Gradient Descent\n",
    "3. Reminder: 과적합(Overfitting)과 정규화(Regurlarization)\n",
    "4. 훈련 세트와 테스트 세트\n",
    "5. 학습률(Learning Rate)\n",
    "6. 데이터 전처리(Data Preprocessing)"
   ]
  },
  {
   "cell_type": "markdown",
   "metadata": {},
   "source": [
    "### Maximum Likelihood Estimation\n",
    "- 압정이 어떻게 떨어지는지 종류는 2가지. class1, class2\n",
    "- 머신러닝을 통해 둘 중에 어떻게 떨어질지 예측하자.\n",
    "- 둘 중에 예측이므로 베르누이 분포이다.\n",
    "- 베르누이 분포를 여러 번 하면 이항분포가 된다. \n",
    "- 100번 시행 중에 class1이 27번 나왔다고 치자. n=100, k=27\n",
    "- 이항분포 식에 n=100, k=27을 대입한다. \n",
    "- 세타에 관련된 식이 나온다. 이 식에서 likelihood (가능성)이 가장 큰 세타값을 구한다."
   ]
  },
  {
   "cell_type": "markdown",
   "metadata": {},
   "source": [
    "### Optimization via Gradient Descent\n",
    "- 우리가 구한 observation을 가장 잘 설명하는 확률분포의 파라미터를 찾는 과정.\n",
    "- 어떻게 구하느냐? 그래프의 기울기를 이용해서 구함.\n",
    "- 최대를 찾으므로 Gradient ascent.\n",
    "- 최소를 찾을 때는 Gradient descent."
   ]
  },
  {
   "cell_type": "markdown",
   "metadata": {},
   "source": [
    "### Overfitting\n",
    "- 주어진 데이터에 대해서 과도하게 확률밀도함수가 fitting되어버린 것을 overfitting이라고 한다.(너무 과도하게 잘 설명하는 것을 막고자 함)\n",
    "- overfitting을 최소화 해야 한다.\n",
    "- overfitting 최소화하는 법\n",
    "    - training set, dev set=validation set, test set 으로 나눈다.\n",
    "    - training set에서 overfitting이 되었는지 test set으로 확인할 수 있다.\n",
    "    - development set은 test set에 대해서도 overfitting이 되는 것을 방지하는 역할을 한다.(여러 번 fitting하다보면 이런 일이 일어날 수 있다.)\n",
    "\n",
    "    - training set 학습, dev set 검증, test set 으로 test.\n",
    "    - epoch가 커질수록 train loss는 줄어들고 dev loss는 줄어들다가 다시 커진다.\n",
    "    - train loss도 작고 dev loss도 작은 부분의 epoch에서 모델을 선택하면 된다.\n",
    "    - 많은 데이터를 모은다.\n",
    "    - feature를 적게 사용한다.\n",
    "        - feature란 어떤 분포를 잘 설명하는 특징을 말한다.\n",
    "    - Regularization\n",
    "        - Early stopping\n",
    "            - validation loss가 더이상 낮아지지 않을 때 멈춘다.\n",
    "        - Reducing Network Size\n",
    "            - Neural network가 학습할 수 있는 양을 줄인다.\n",
    "        - Weight Decay\n",
    "            - Neural network weight 파라미터의 크기를 제한한다.\n",
    "        - Dropout\n",
    "        - Batch Normalization\n"
   ]
  },
  {
   "cell_type": "markdown",
   "metadata": {},
   "source": [
    "### Basic Approach to Train DNN\n",
    "1. Neural network architecture를 설계한다.\n",
    "2. Train and check that model is over-fitted\n",
    "    - If it is not, increase the model size(deeper and wider)\n",
    "    - If it is, add regularization, such as drop=out, batch-normalization\n",
    "3. Repeat from step 2\n",
    "----\n",
    "이제 이론 끝! 실습을 진행하자."
   ]
  },
  {
   "cell_type": "code",
   "execution_count": 2,
   "metadata": {},
   "outputs": [
    {
     "data": {
      "text/plain": [
       "<torch._C.Generator at 0x7efc40ae69b0>"
      ]
     },
     "execution_count": 2,
     "metadata": {},
     "output_type": "execute_result"
    }
   ],
   "source": [
    "import torch\n",
    "import torch.nn as nn\n",
    "import torch.nn.functional as F\n",
    "import torch.optim as optim\n",
    "\n",
    "torch.manual_seed(1)"
   ]
  },
  {
   "cell_type": "code",
   "execution_count": 3,
   "metadata": {},
   "outputs": [],
   "source": [
    "x_train = torch.FloatTensor([[1, 2, 1],\n",
    "                             [1, 3, 2],\n",
    "                             [1, 3, 4],\n",
    "                             [1, 5, 5],\n",
    "                             [1, 7, 5],\n",
    "                             [1, 2, 5],\n",
    "                             [1, 6, 6],\n",
    "                             [1, 7, 7]\n",
    "                            ])\n",
    "y_train = torch.LongTensor([2, 2, 2, 1, 1, 1, 0, 0])\n",
    "x_test = torch.FloatTensor([[2, 1, 1], [3, 1, 2], [3, 3, 4]])\n",
    "y_test = torch.LongTensor([2, 2, 2])"
   ]
  },
  {
   "cell_type": "code",
   "execution_count": 4,
   "metadata": {},
   "outputs": [],
   "source": [
    "class SoftmaxClassifierModel(nn.Module):\n",
    "    def __init__(self):\n",
    "        super().__init__()\n",
    "        self.linear=nn.Linear(3,3)\n",
    "    def forward(self,x):\n",
    "        return self.linear(x)"
   ]
  },
  {
   "cell_type": "code",
   "execution_count": 5,
   "metadata": {},
   "outputs": [],
   "source": [
    "model=SoftmaxClassifierModel()"
   ]
  },
  {
   "cell_type": "code",
   "execution_count": 6,
   "metadata": {},
   "outputs": [],
   "source": [
    "optimizer=optim.SGD(model.parameters(),lr=0.1)"
   ]
  },
  {
   "cell_type": "code",
   "execution_count": 7,
   "metadata": {},
   "outputs": [],
   "source": [
    "def train(model, optimizer, x_train, y_train):\n",
    "    nb_epochs=20\n",
    "    for epoch in range(nb_epochs):\n",
    "        prediction=model(x_train)\n",
    "        cost=F.cross_entropy(prediction,y_train)\n",
    "        \n",
    "        optimizer.zero_grad()\n",
    "        cost.backward()\n",
    "        optimizer.step()\n",
    "        \n",
    "        print('Epoch {:4d}/{} Cost: {:.6f}'.format(epoch, nb_epochs, cost.item()))\n",
    "        "
   ]
  },
  {
   "cell_type": "code",
   "execution_count": 11,
   "metadata": {},
   "outputs": [],
   "source": [
    "def test(model,optimizer,x_test,y_test):\n",
    "    prediction=model(x_test)\n",
    "    predicted_classes = prediction.max(1)[1]\n",
    "    correct_count=(predicted_classes==y_test).sum().item()\n",
    "    cost=F.cross_entropy(prediction,y_test)\n",
    "    \n",
    "    print('Accuracy: {}% Cost: {:.6f}'.format(correct_count/len(y_test)*100,cost.item()))"
   ]
  },
  {
   "cell_type": "code",
   "execution_count": 12,
   "metadata": {},
   "outputs": [
    {
     "name": "stdout",
     "output_type": "stream",
     "text": [
      "Epoch    0/20 Cost: 0.983424\n",
      "Epoch    1/20 Cost: 0.977591\n",
      "Epoch    2/20 Cost: 0.971864\n",
      "Epoch    3/20 Cost: 0.966240\n",
      "Epoch    4/20 Cost: 0.960718\n",
      "Epoch    5/20 Cost: 0.955295\n",
      "Epoch    6/20 Cost: 0.949968\n",
      "Epoch    7/20 Cost: 0.944736\n",
      "Epoch    8/20 Cost: 0.939596\n",
      "Epoch    9/20 Cost: 0.934546\n",
      "Epoch   10/20 Cost: 0.929585\n",
      "Epoch   11/20 Cost: 0.924709\n",
      "Epoch   12/20 Cost: 0.919918\n",
      "Epoch   13/20 Cost: 0.915210\n",
      "Epoch   14/20 Cost: 0.910582\n",
      "Epoch   15/20 Cost: 0.906033\n",
      "Epoch   16/20 Cost: 0.901561\n",
      "Epoch   17/20 Cost: 0.897164\n",
      "Epoch   18/20 Cost: 0.892841\n",
      "Epoch   19/20 Cost: 0.888590\n"
     ]
    }
   ],
   "source": [
    "train(model, optimizer, x_train, y_train)"
   ]
  },
  {
   "cell_type": "code",
   "execution_count": 13,
   "metadata": {},
   "outputs": [
    {
     "name": "stdout",
     "output_type": "stream",
     "text": [
      "Accuracy: 66.66666666666666% Cost: 0.791733\n"
     ]
    }
   ],
   "source": [
    "test(model, optimizer, x_test, y_test)"
   ]
  },
  {
   "cell_type": "markdown",
   "metadata": {},
   "source": [
    "### Learning Rate\n",
    "- gradient descent에서의 알파 값.\n",
    "- learning rate이 너무 크면 diverge하면서 cost가 점점 늘어난다. (overshooting)\n",
    "- 너무 작으면 cost가 거의 줄어들지 않는다."
   ]
  },
  {
   "cell_type": "code",
   "execution_count": 14,
   "metadata": {},
   "outputs": [
    {
     "name": "stdout",
     "output_type": "stream",
     "text": [
      "Epoch    0/20 Cost: 1.280268\n",
      "Epoch    1/20 Cost: 976950.750000\n",
      "Epoch    2/20 Cost: 1279135.125000\n",
      "Epoch    3/20 Cost: 1198379.125000\n",
      "Epoch    4/20 Cost: 1098825.750000\n",
      "Epoch    5/20 Cost: 1968197.625000\n",
      "Epoch    6/20 Cost: 284763.218750\n",
      "Epoch    7/20 Cost: 1532260.000000\n",
      "Epoch    8/20 Cost: 1651504.125000\n",
      "Epoch    9/20 Cost: 521878.437500\n",
      "Epoch   10/20 Cost: 1397263.250000\n",
      "Epoch   11/20 Cost: 750986.250000\n",
      "Epoch   12/20 Cost: 918691.562500\n",
      "Epoch   13/20 Cost: 1487888.250000\n",
      "Epoch   14/20 Cost: 1582260.125000\n",
      "Epoch   15/20 Cost: 685818.062500\n",
      "Epoch   16/20 Cost: 1140048.750000\n",
      "Epoch   17/20 Cost: 940566.562500\n",
      "Epoch   18/20 Cost: 931638.250000\n",
      "Epoch   19/20 Cost: 1971322.625000\n"
     ]
    }
   ],
   "source": [
    "#learning rate이 너무 클 때\n",
    "model=SoftmaxClassifierModel()\n",
    "optimizer=optim.SGD(model.parameters(),lr=1e5)\n",
    "train(model, optimizer, x_train, y_train)"
   ]
  },
  {
   "cell_type": "code",
   "execution_count": 15,
   "metadata": {},
   "outputs": [
    {
     "name": "stdout",
     "output_type": "stream",
     "text": [
      "Epoch    0/20 Cost: 3.187324\n",
      "Epoch    1/20 Cost: 1.334307\n",
      "Epoch    2/20 Cost: 1.047911\n",
      "Epoch    3/20 Cost: 0.996043\n",
      "Epoch    4/20 Cost: 0.985740\n",
      "Epoch    5/20 Cost: 0.977224\n",
      "Epoch    6/20 Cost: 0.970065\n",
      "Epoch    7/20 Cost: 0.963589\n",
      "Epoch    8/20 Cost: 0.957562\n",
      "Epoch    9/20 Cost: 0.951825\n",
      "Epoch   10/20 Cost: 0.946302\n",
      "Epoch   11/20 Cost: 0.940942\n",
      "Epoch   12/20 Cost: 0.935719\n",
      "Epoch   13/20 Cost: 0.930612\n",
      "Epoch   14/20 Cost: 0.925613\n",
      "Epoch   15/20 Cost: 0.920711\n",
      "Epoch   16/20 Cost: 0.915902\n",
      "Epoch   17/20 Cost: 0.911182\n",
      "Epoch   18/20 Cost: 0.906547\n",
      "Epoch   19/20 Cost: 0.901994\n"
     ]
    }
   ],
   "source": [
    "#learning rate이 너무 작을 때\n",
    "model=SoftmaxClassifierModel()\n",
    "optimizer=optim.SGD(model.parameters(),lr=1e-1)\n",
    "train(model, optimizer, x_train, y_train)\n",
    "# 어떤 값으로 정해져있지는 않아서 하면서 조금씩 조절하면 된다."
   ]
  },
  {
   "cell_type": "markdown",
   "metadata": {},
   "source": [
    "### Data Preprocessing\n",
    "- 데이터 전처리"
   ]
  },
  {
   "cell_type": "code",
   "execution_count": 16,
   "metadata": {},
   "outputs": [],
   "source": [
    "x_train = torch.FloatTensor([[73, 80, 75],\n",
    "                             [93, 88, 93],\n",
    "                             [89, 91, 90],\n",
    "                             [96, 98, 100],\n",
    "                             [73, 66, 70]])\n",
    "y_train = torch.FloatTensor([[152], [185], [180], [196], [142]])"
   ]
  },
  {
   "cell_type": "code",
   "execution_count": 18,
   "metadata": {},
   "outputs": [
    {
     "name": "stdout",
     "output_type": "stream",
     "text": [
      "tensor([[-1.0674, -0.3758, -0.8398],\n",
      "        [ 0.7418,  0.2778,  0.5863],\n",
      "        [ 0.3799,  0.5229,  0.3486],\n",
      "        [ 1.0132,  1.0948,  1.1409],\n",
      "        [-1.0674, -1.5197, -1.2360]])\n"
     ]
    }
   ],
   "source": [
    "# 데이터 전처리 방법 중 standardization 이용. 정규화!\n",
    "\n",
    "mu=x_train.mean(dim=0)\n",
    "sigma=x_train.std(dim=0)\n",
    "norm_x_train=(x_train-mu)/sigma\n",
    "\n",
    "print(norm_x_train)"
   ]
  },
  {
   "cell_type": "code",
   "execution_count": 19,
   "metadata": {},
   "outputs": [
    {
     "name": "stdout",
     "output_type": "stream",
     "text": [
      "Epoch    0/20 Cost: 29729.951172\n",
      "Epoch    1/20 Cost: 18889.082031\n",
      "Epoch    2/20 Cost: 12048.975586\n",
      "Epoch    3/20 Cost: 7699.843262\n",
      "Epoch    4/20 Cost: 4924.700684\n",
      "Epoch    5/20 Cost: 3151.020264\n",
      "Epoch    6/20 Cost: 2016.562866\n",
      "Epoch    7/20 Cost: 1290.709106\n",
      "Epoch    8/20 Cost: 826.216003\n",
      "Epoch    9/20 Cost: 528.952271\n",
      "Epoch   10/20 Cost: 338.703339\n",
      "Epoch   11/20 Cost: 216.940048\n",
      "Epoch   12/20 Cost: 139.006989\n",
      "Epoch   13/20 Cost: 89.125130\n",
      "Epoch   14/20 Cost: 57.196079\n",
      "Epoch   15/20 Cost: 36.757317\n",
      "Epoch   16/20 Cost: 23.672049\n",
      "Epoch   17/20 Cost: 15.293400\n",
      "Epoch   18/20 Cost: 9.927166\n",
      "Epoch   19/20 Cost: 6.488903\n"
     ]
    }
   ],
   "source": [
    "class MultivariateLinearRegressionModel(nn.Module):\n",
    "    def __init__(self):\n",
    "        super().__init__()\n",
    "        self.linear = nn.Linear(3, 1)\n",
    "\n",
    "    def forward(self, x):\n",
    "        return self.linear(x)\n",
    "model = MultivariateLinearRegressionModel()\n",
    "optimizer = optim.SGD(model.parameters(), lr=1e-1)\n",
    "\n",
    "def train(model, optimizer, x_train, y_train):\n",
    "    nb_epochs = 20\n",
    "    for epoch in range(nb_epochs):\n",
    "\n",
    "        # H(x) 계산\n",
    "        prediction = model(x_train)\n",
    "\n",
    "        # cost 계산\n",
    "        cost = F.mse_loss(prediction, y_train)\n",
    "\n",
    "        # cost로 H(x) 개선\n",
    "        optimizer.zero_grad()\n",
    "        cost.backward()\n",
    "        optimizer.step()\n",
    "\n",
    "        print('Epoch {:4d}/{} Cost: {:.6f}'.format(\n",
    "            epoch, nb_epochs, cost.item()\n",
    "        ))\n",
    "train(model, optimizer, norm_x_train, y_train)"
   ]
  },
  {
   "cell_type": "code",
   "execution_count": null,
   "metadata": {},
   "outputs": [],
   "source": []
  },
  {
   "cell_type": "code",
   "execution_count": null,
   "metadata": {},
   "outputs": [],
   "source": []
  },
  {
   "cell_type": "code",
   "execution_count": null,
   "metadata": {},
   "outputs": [],
   "source": []
  },
  {
   "cell_type": "code",
   "execution_count": null,
   "metadata": {},
   "outputs": [],
   "source": []
  },
  {
   "cell_type": "code",
   "execution_count": null,
   "metadata": {},
   "outputs": [],
   "source": []
  },
  {
   "cell_type": "code",
   "execution_count": null,
   "metadata": {},
   "outputs": [],
   "source": []
  },
  {
   "cell_type": "code",
   "execution_count": null,
   "metadata": {},
   "outputs": [],
   "source": []
  }
 ],
 "metadata": {
  "kernelspec": {
   "display_name": "Python 3",
   "language": "python",
   "name": "python3"
  },
  "language_info": {
   "codemirror_mode": {
    "name": "ipython",
    "version": 3
   },
   "file_extension": ".py",
   "mimetype": "text/x-python",
   "name": "python",
   "nbconvert_exporter": "python",
   "pygments_lexer": "ipython3",
   "version": "3.6.7"
  }
 },
 "nbformat": 4,
 "nbformat_minor": 2
}
