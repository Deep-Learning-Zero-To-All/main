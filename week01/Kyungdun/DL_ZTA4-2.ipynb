{
 "cells": [
  {
   "cell_type": "markdown",
   "metadata": {},
   "source": [
    "### Loading data\n",
    "- Multivariate Linear Regression 복습\n",
    "    - 더 많은 데이터를 학습해야 한다.\n",
    "    - 너무 많은 양의 데이터를 학습시키는 것은 하드웨어적으로 불가능하다.\n",
    "    - 일부분의 데이터로만 학습하자.\n",
    "- \"Minibatch\" Gradient Descent 이론\n",
    "    - 전체 데이터를 minibatch라는 작은 양으로 나누어서 균일하게 나눠서 학습하자\n",
    "    - 전체 데이터를 쓰지 않아서 잘못된 방향으로 업데이트를 할 수도 있다.\n",
    "    - 각 minibatch의 크기는 2의 제곱수로 설정한다.\n",
    "    - torch.utils.data.Dataset 이용\n",
    "    - PyTorch Dataset>PyTorch DataLoader\n",
    "- PyTorch Dataset and DataLoader 사용법"
   ]
  },
  {
   "cell_type": "code",
   "execution_count": 13,
   "metadata": {},
   "outputs": [],
   "source": [
    "import torch\n",
    "# PyTorch Dataset\n",
    "from torch.utils.data import Dataset\n",
    "\n",
    "class CustomDataset(Dataset):\n",
    "    def __init__(self):\n",
    "        self.x_data=[[73,80,75],\n",
    "                      [93,88,93],\n",
    "                       [89,91,90],\n",
    "                       [96,98,100],\n",
    "                       [73,66,70]]\n",
    "        self.y_data=[[152],[185],[180],[196],[142]]\n",
    "        \n",
    "    def __len__(self):\n",
    "        return len(self.x_data)\n",
    "    \n",
    "    def __getitem__(self,idx):\n",
    "        x=torch.FloatTensor(self.x_data[idx])\n",
    "        y=torch.FloatTensor(self.y_data[idx])\n",
    "        \n",
    "        return x,y\n",
    "    \n",
    "dataset=CustomDataset()"
   ]
  },
  {
   "cell_type": "code",
   "execution_count": 14,
   "metadata": {},
   "outputs": [],
   "source": [
    "# PyTorch DataLoader\n",
    "\n",
    "from torch.utils.data import DataLoader\n",
    "\n",
    "dataloader=DataLoader(\n",
    "    dataset, batch_size=2, shuffle=True)"
   ]
  },
  {
   "cell_type": "code",
   "execution_count": 94,
   "metadata": {},
   "outputs": [
    {
     "name": "stdout",
     "output_type": "stream",
     "text": [
      "Epoch    0/20 Batch: 3/3 Cost:  21089.464844\n",
      "Epoch    1/20 Batch: 3/3 Cost:  18494.675781\n",
      "Epoch    2/20 Batch: 3/3 Cost:  36702.148438\n",
      "Epoch    3/20 Batch: 3/3 Cost:  25577.333984\n",
      "Epoch    4/20 Batch: 3/3 Cost:  80591.046875\n",
      "Epoch    5/20 Batch: 3/3 Cost:  22457.484375\n",
      "Epoch    6/20 Batch: 3/3 Cost:  43009.277344\n",
      "Epoch    7/20 Batch: 3/3 Cost:  34198.601562\n",
      "Epoch    8/20 Batch: 3/3 Cost:  43170.847656\n",
      "Epoch    9/20 Batch: 3/3 Cost:  21821.513672\n",
      "Epoch   10/20 Batch: 3/3 Cost:  11356.906250\n",
      "Epoch   11/20 Batch: 3/3 Cost:  28285.058594\n",
      "Epoch   12/20 Batch: 3/3 Cost:  46974.820312\n",
      "Epoch   13/20 Batch: 3/3 Cost:  5502.872559\n",
      "Epoch   14/20 Batch: 3/3 Cost:  28707.980469\n",
      "Epoch   15/20 Batch: 3/3 Cost:  57341.421875\n",
      "Epoch   16/20 Batch: 3/3 Cost:  64922.980469\n",
      "Epoch   17/20 Batch: 3/3 Cost:  40258.917969\n",
      "Epoch   18/20 Batch: 3/3 Cost:  16830.917969\n",
      "Epoch   19/20 Batch: 3/3 Cost:  46459.468750\n",
      "Epoch   20/20 Batch: 3/3 Cost:  25956.412109\n"
     ]
    }
   ],
   "source": [
    "import torch.nn as nn\n",
    "import torch.nn.functional as F\n",
    "import torch.optim as optim\n",
    "\n",
    "\n",
    "class MultivariateLinearRegressionModel(nn.Module):\n",
    "    def __init__(self):\n",
    "        super().__init__()\n",
    "        self.linear=nn.Linear(3,1)\n",
    "\n",
    "        \n",
    "    def forward(self,x):\n",
    "        return self.linear(x)\n",
    "    \n",
    "\n",
    "nb_epochs=20\n",
    "for epoch in range(nb_epochs+1):\n",
    "    for batch_idx,samples in enumerate(dataloader):\n",
    "        x_train,y_train=samples\n",
    "        \n",
    "        model=MultivariateLinearRegressionModel()\n",
    "        optimizer=torch.optim.SGD(model.parameters(),lr=1e-5)\n",
    "        \n",
    "        prediction=model(x_train)\n",
    "        cost=F.mse_loss(prediction,y_train)\n",
    " \n",
    "    \n",
    "        optimizer.zero_grad()\n",
    "        cost.backward()\n",
    "        optimizer.step()\n",
    "    \n",
    "    print('Epoch {:4d}/{} Batch: {}/{} Cost: {: 6f}'.format(epoch,nb_epochs,batch_idx+1,len(dataloader),cost.item()))\n",
    "    "
   ]
  },
  {
   "cell_type": "code",
   "execution_count": null,
   "metadata": {},
   "outputs": [],
   "source": []
  },
  {
   "cell_type": "code",
   "execution_count": null,
   "metadata": {},
   "outputs": [],
   "source": []
  },
  {
   "cell_type": "code",
   "execution_count": null,
   "metadata": {},
   "outputs": [],
   "source": []
  }
 ],
 "metadata": {
  "kernelspec": {
   "display_name": "Python 3",
   "language": "python",
   "name": "python3"
  },
  "language_info": {
   "codemirror_mode": {
    "name": "ipython",
    "version": 3
   },
   "file_extension": ".py",
   "mimetype": "text/x-python",
   "name": "python",
   "nbconvert_exporter": "python",
   "pygments_lexer": "ipython3",
   "version": "3.6.7"
  }
 },
 "nbformat": 4,
 "nbformat_minor": 2
}
