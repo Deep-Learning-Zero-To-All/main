{
 "cells": [
  {
   "cell_type": "markdown",
   "metadata": {},
   "source": [
    "### Multivariate Linear regression\n",
    "- Simple linear regression 복습\n",
    "    - 하나의 정보로부터 하나의 결과를 예측\n",
    "    - Hypothesis=W*x+b\n",
    "- multivariate linear regression 이론\n",
    "    - 복수의 정보로 하나의 결과를 예측\n",
    "    - Hypothesis=w1*x1 + w2*x2 + w3*x3 + b\n",
    "    - matmul()로 한번에 계산한다.\n",
    "    - MSE는 simple과 동일\n",
    "    - 학습방식도 simple과 동일\n",
    "- Naive Data Representation\n",
    "- Matrix Data Representation\n",
    "- Multivariate Linear regression\n",
    "- nn.Module 소개\n",
    "- F.mse_loss 소개"
   ]
  },
  {
   "cell_type": "markdown",
   "metadata": {},
   "source": [
    "#### Multivariate Linear Regression"
   ]
  },
  {
   "cell_type": "code",
   "execution_count": 3,
   "metadata": {},
   "outputs": [
    {
     "name": "stdout",
     "output_type": "stream",
     "text": [
      "Epoch    1/20 hypothesis: tensor([0., 0., 0., 0., 0.]) Cost:  29661.800781\n",
      "Epoch    2/20 hypothesis: tensor([67.2578, 80.8397, 79.6523, 86.7394, 61.6605]) Cost:  9298.520508\n",
      "Epoch    3/20 hypothesis: tensor([104.9128, 126.0990, 124.2466, 135.3015,  96.1821]) Cost:  2915.712402\n",
      "Epoch    4/20 hypothesis: tensor([125.9942, 151.4381, 149.2133, 162.4896, 115.5097]) Cost:  915.040527\n",
      "Epoch    5/20 hypothesis: tensor([137.7967, 165.6247, 163.1911, 177.7112, 126.3307]) Cost:  287.936096\n",
      "Epoch    6/20 hypothesis: tensor([144.4044, 173.5674, 171.0168, 186.2332, 132.3891]) Cost:  91.371071\n",
      "Epoch    7/20 hypothesis: tensor([148.1035, 178.0143, 175.3980, 191.0042, 135.7812]) Cost:  29.758249\n",
      "Epoch    8/20 hypothesis: tensor([150.1744, 180.5042, 177.8509, 193.6753, 137.6805]) Cost:  10.445267\n",
      "Epoch    9/20 hypothesis: tensor([151.3336, 181.8983, 179.2240, 195.1707, 138.7440]) Cost:  4.391237\n",
      "Epoch   10/20 hypothesis: tensor([151.9824, 182.6789, 179.9928, 196.0079, 139.3396]) Cost:  2.493121\n",
      "Epoch   11/20 hypothesis: tensor([152.3454, 183.1161, 180.4231, 196.4765, 139.6732]) Cost:  1.897688\n",
      "Epoch   12/20 hypothesis: tensor([152.5485, 183.3609, 180.6640, 196.7389, 139.8602]) Cost:  1.710552\n",
      "Epoch   13/20 hypothesis: tensor([152.6620, 183.4982, 180.7988, 196.8857, 139.9651]) Cost:  1.651416\n",
      "Epoch   14/20 hypothesis: tensor([152.7253, 183.5752, 180.8742, 196.9678, 140.0240]) Cost:  1.632369\n",
      "Epoch   15/20 hypothesis: tensor([152.7606, 183.6184, 180.9164, 197.0138, 140.0571]) Cost:  1.625924\n",
      "Epoch   16/20 hypothesis: tensor([152.7802, 183.6427, 180.9399, 197.0395, 140.0759]) Cost:  1.623420\n",
      "Epoch   17/20 hypothesis: tensor([152.7909, 183.6565, 180.9530, 197.0538, 140.0865]) Cost:  1.622152\n",
      "Epoch   18/20 hypothesis: tensor([152.7968, 183.6643, 180.9603, 197.0618, 140.0927]) Cost:  1.621261\n",
      "Epoch   19/20 hypothesis: tensor([152.7999, 183.6688, 180.9644, 197.0661, 140.0963]) Cost:  1.620501\n",
      "Epoch   20/20 hypothesis: tensor([152.8014, 183.6715, 180.9665, 197.0686, 140.0985]) Cost:  1.619757\n"
     ]
    }
   ],
   "source": [
    "import torch\n",
    "\n",
    "#데이터\n",
    "x_train=torch.FloatTensor([[73,80,75],\n",
    "                          [93,88,93],\n",
    "                          [89,91,90],\n",
    "                          [96,98,100],\n",
    "                          [73,66,70]])\n",
    "y_train=torch.FloatTensor([[152],[185],[180],[196],[142]])\n",
    "\n",
    "#모델 초기화\n",
    "W=torch.zeros((3,1),requires_grad=True) #W를 정의하는 부분이 simple과 조금 다름.\n",
    "b=torch.zeros(1,requires_grad=True)\n",
    "\n",
    "#optimizer 설정\n",
    "optimizer=torch.optim.SGD([W,b],lr=1e-5)\n",
    "\n",
    "nb_epochs=20\n",
    "for epoch in range(1,nb_epochs+1):\n",
    "    hypothesis=x_train.matmul(W) + b\n",
    "    cost=torch.mean((hypothesis-y_train)**2)\n",
    "    \n",
    "    optimizer.zero_grad()\n",
    "    cost.backward()\n",
    "    optimizer.step()\n",
    "    \n",
    "    print('Epoch {:4d}/{} hypothesis: {} Cost: {: 6f}'.format(epoch,nb_epochs,hypothesis.squeeze().detach(),cost.item()))\n",
    "    "
   ]
  },
  {
   "cell_type": "markdown",
   "metadata": {},
   "source": [
    "#### mm.module과 cost function 이용"
   ]
  },
  {
   "cell_type": "code",
   "execution_count": 20,
   "metadata": {},
   "outputs": [
    {
     "name": "stdout",
     "output_type": "stream",
     "text": [
      "Epoch    0/20 hypothesis: tensor([ -89.0575, -104.7748, -104.4243, -113.8122,  -79.2112]) Cost:  26470.837891\n",
      "Epoch    1/20 hypothesis: tensor([ -89.0575, -104.7748, -104.4243, -113.8122,  -79.2112]) Cost:  8297.319336\n",
      "Epoch    2/20 hypothesis: tensor([ -89.0575, -104.7748, -104.4243, -113.8122,  -79.2112]) Cost:  2600.887451\n",
      "Epoch    3/20 hypothesis: tensor([ -89.0575, -104.7748, -104.4243, -113.8122,  -79.2112]) Cost:  815.358032\n",
      "Epoch    4/20 hypothesis: tensor([ -89.0575, -104.7748, -104.4243, -113.8122,  -79.2112]) Cost:  255.689590\n",
      "Epoch    5/20 hypothesis: tensor([ -89.0575, -104.7748, -104.4243, -113.8122,  -79.2112]) Cost:  80.263199\n",
      "Epoch    6/20 hypothesis: tensor([ -89.0575, -104.7748, -104.4243, -113.8122,  -79.2112]) Cost:  25.276468\n",
      "Epoch    7/20 hypothesis: tensor([ -89.0575, -104.7748, -104.4243, -113.8122,  -79.2112]) Cost:  8.040895\n",
      "Epoch    8/20 hypothesis: tensor([ -89.0575, -104.7748, -104.4243, -113.8122,  -79.2112]) Cost:  2.638495\n",
      "Epoch    9/20 hypothesis: tensor([ -89.0575, -104.7748, -104.4243, -113.8122,  -79.2112]) Cost:  0.945116\n",
      "Epoch   10/20 hypothesis: tensor([ -89.0575, -104.7748, -104.4243, -113.8122,  -79.2112]) Cost:  0.414352\n",
      "Epoch   11/20 hypothesis: tensor([ -89.0575, -104.7748, -104.4243, -113.8122,  -79.2112]) Cost:  0.247974\n",
      "Epoch   12/20 hypothesis: tensor([ -89.0575, -104.7748, -104.4243, -113.8122,  -79.2112]) Cost:  0.195827\n",
      "Epoch   13/20 hypothesis: tensor([ -89.0575, -104.7748, -104.4243, -113.8122,  -79.2112]) Cost:  0.179485\n",
      "Epoch   14/20 hypothesis: tensor([ -89.0575, -104.7748, -104.4243, -113.8122,  -79.2112]) Cost:  0.174353\n",
      "Epoch   15/20 hypothesis: tensor([ -89.0575, -104.7748, -104.4243, -113.8122,  -79.2112]) Cost:  0.172744\n",
      "Epoch   16/20 hypothesis: tensor([ -89.0575, -104.7748, -104.4243, -113.8122,  -79.2112]) Cost:  0.172238\n",
      "Epoch   17/20 hypothesis: tensor([ -89.0575, -104.7748, -104.4243, -113.8122,  -79.2112]) Cost:  0.172079\n",
      "Epoch   18/20 hypothesis: tensor([ -89.0575, -104.7748, -104.4243, -113.8122,  -79.2112]) Cost:  0.172031\n",
      "Epoch   19/20 hypothesis: tensor([ -89.0575, -104.7748, -104.4243, -113.8122,  -79.2112]) Cost:  0.172010\n",
      "Epoch   20/20 hypothesis: tensor([ -89.0575, -104.7748, -104.4243, -113.8122,  -79.2112]) Cost:  0.172003\n"
     ]
    }
   ],
   "source": [
    "import torch.nn as nn\n",
    "import torch.nn.functional as F\n",
    "import torch.optim as optim\n",
    "\n",
    "\n",
    "class MultivariateLinearRegressionModel(nn.Module):\n",
    "    def __init__(self):\n",
    "        super().__init__()\n",
    "        self.linear=nn.Linear(3,1)\n",
    "\n",
    "        \n",
    "    def forward(self,x):\n",
    "        return self.linear(x)\n",
    "    \n",
    "\n",
    "\n",
    "#데이터\n",
    "x_train=torch.FloatTensor([[73,80,75],\n",
    "                          [93,88,93],\n",
    "                          [89,91,90],\n",
    "                          [96,98,100],\n",
    "                          [73,66,70]])\n",
    "y_train=torch.FloatTensor([[152],[185],[180],[196],[142]])\n",
    "\n",
    "#모델 초기화\n",
    "model=MultivariateLinearRegressionModel()\n",
    "\n",
    "#optimizer 설정\n",
    "optimizer=optim.SGD(model.parameters(),lr=1e-5)\n",
    "\n",
    "nb_epochs=20\n",
    "for epoch in range(nb_epochs+1):\n",
    "\n",
    "    prediction=model(x_train)\n",
    "    cost=F.mse_loss(prediction, y_train)\n",
    "    \n",
    "    optimizer.zero_grad()\n",
    "    cost.backward()\n",
    "    optimizer.step()\n",
    "    \n",
    "    print('Epoch {:4d}/{} hypothesis: {} Cost: {: 6f}'.format(epoch,nb_epochs,hypothesis.squeeze().detach(),cost.item()))\n",
    "    "
   ]
  },
  {
   "cell_type": "code",
   "execution_count": null,
   "metadata": {},
   "outputs": [],
   "source": []
  },
  {
   "cell_type": "code",
   "execution_count": null,
   "metadata": {},
   "outputs": [],
   "source": []
  }
 ],
 "metadata": {
  "kernelspec": {
   "display_name": "Python 3",
   "language": "python",
   "name": "python3"
  },
  "language_info": {
   "codemirror_mode": {
    "name": "ipython",
    "version": 3
   },
   "file_extension": ".py",
   "mimetype": "text/x-python",
   "name": "python",
   "nbconvert_exporter": "python",
   "pygments_lexer": "ipython3",
   "version": "3.6.7"
  }
 },
 "nbformat": 4,
 "nbformat_minor": 2
}
