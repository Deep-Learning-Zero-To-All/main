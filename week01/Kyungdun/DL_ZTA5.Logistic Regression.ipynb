{
 "cells": [
  {
   "cell_type": "code",
   "execution_count": 2,
   "metadata": {},
   "outputs": [
    {
     "data": {
      "text/plain": [
       "<torch._C.Generator at 0x7fee6a069950>"
      ]
     },
     "execution_count": 2,
     "metadata": {},
     "output_type": "execute_result"
    }
   ],
   "source": [
    "import torch\n",
    "import torch.nn as nn\n",
    "import torch.nn.functional as F\n",
    "import torch.optim as optim\n",
    "\n",
    "# for reproducibility 똑같이 결과를 재현하기 위해 재현성.\n",
    "torch.manual_seed(1)"
   ]
  },
  {
   "cell_type": "code",
   "execution_count": 24,
   "metadata": {},
   "outputs": [],
   "source": [
    "#Training data\n",
    "x_data = [[1,2],[2,3],[3,1],[4,3],[5,3],[6,2]]\n",
    "y_data=[[0],[0],[0],[1],[1],[1]]"
   ]
  },
  {
   "cell_type": "code",
   "execution_count": 25,
   "metadata": {},
   "outputs": [
    {
     "name": "stdout",
     "output_type": "stream",
     "text": [
      "torch.Size([6, 2])\n",
      "torch.Size([6, 1])\n"
     ]
    }
   ],
   "source": [
    "x_train=torch.FloatTensor(x_data)\n",
    "y_train=torch.FloatTensor(y_data)\n",
    "\n",
    "print(x_train.shape)\n",
    "print(y_train.shape)"
   ]
  },
  {
   "cell_type": "code",
   "execution_count": 26,
   "metadata": {},
   "outputs": [
    {
     "name": "stdout",
     "output_type": "stream",
     "text": [
      "e^1 equals:  tensor([2.7183])\n"
     ]
    }
   ],
   "source": [
    "print('e^1 equals: ',torch.exp(torch.FloatTensor([1]))) \n",
    "#exponential 나타내는 함수"
   ]
  },
  {
   "cell_type": "code",
   "execution_count": 27,
   "metadata": {},
   "outputs": [
    {
     "name": "stdout",
     "output_type": "stream",
     "text": [
      "tensor([[0.5000],\n",
      "        [0.5000],\n",
      "        [0.5000],\n",
      "        [0.5000],\n",
      "        [0.5000],\n",
      "        [0.5000]], grad_fn=<MulBackward0>)\n",
      "torch.Size([6, 1])\n"
     ]
    }
   ],
   "source": [
    "W=torch.zeros((2,1),requires_grad=True)\n",
    "b=torch.zeros(1,requires_grad=True)\n",
    "hypothesis=1/(1+torch.exp(-(x_train.matmul(W)+b)))\n",
    "print(hypothesis)\n",
    "print(hypothesis.shape) # 전부 0으로 맞춰서 기본값 0.5만 나옴."
   ]
  },
  {
   "cell_type": "code",
   "execution_count": 28,
   "metadata": {},
   "outputs": [
    {
     "name": "stdout",
     "output_type": "stream",
     "text": [
      "1/(1+e^{-1}) equals:  tensor([0.7311])\n"
     ]
    }
   ],
   "source": [
    "print('1/(1+e^{-1}) equals: ',torch.sigmoid(torch.FloatTensor([1])))\n",
    "# 시그모이드 함수에 [1] 대입한 것."
   ]
  },
  {
   "cell_type": "code",
   "execution_count": 29,
   "metadata": {},
   "outputs": [
    {
     "name": "stdout",
     "output_type": "stream",
     "text": [
      "tensor([[0.5000],\n",
      "        [0.5000],\n",
      "        [0.5000],\n",
      "        [0.5000],\n",
      "        [0.5000],\n",
      "        [0.5000]], grad_fn=<SigmoidBackward>)\n",
      "torch.Size([6, 1])\n",
      "tensor([[0.],\n",
      "        [0.],\n",
      "        [0.],\n",
      "        [1.],\n",
      "        [1.],\n",
      "        [1.]])\n"
     ]
    }
   ],
   "source": [
    "hypothesis=torch.sigmoid(x_train.matmul(W)+b)\n",
    "print(hypothesis)\n",
    "print(hypothesis.shape)\n",
    "print(y_train)"
   ]
  },
  {
   "cell_type": "code",
   "execution_count": 30,
   "metadata": {},
   "outputs": [
    {
     "data": {
      "text/plain": [
       "tensor([-0.6931], grad_fn=<AddBackward0>)"
      ]
     },
     "execution_count": 30,
     "metadata": {},
     "output_type": "execute_result"
    }
   ],
   "source": [
    "# cost 계산\n",
    "-(y_train[0]*torch.log(hypothesis[0]))+(1-y_train[0])*torch.log(1-hypothesis[0])"
   ]
  },
  {
   "cell_type": "code",
   "execution_count": 31,
   "metadata": {},
   "outputs": [
    {
     "name": "stdout",
     "output_type": "stream",
     "text": [
      "tensor([[-0.6931],\n",
      "        [-0.6931],\n",
      "        [-0.6931],\n",
      "        [ 0.6931],\n",
      "        [ 0.6931],\n",
      "        [ 0.6931]], grad_fn=<AddBackward0>)\n"
     ]
    }
   ],
   "source": [
    " # cost 계산\n",
    "losses=-(y_train*torch.log(hypothesis))+(1-y_train)*torch.log(1-hypothesis)\n",
    "print(losses)"
   ]
  },
  {
   "cell_type": "code",
   "execution_count": 32,
   "metadata": {},
   "outputs": [
    {
     "name": "stdout",
     "output_type": "stream",
     "text": [
      "tensor(0., grad_fn=<MeanBackward1>)\n"
     ]
    }
   ],
   "source": [
    "cost=losses.mean()\n",
    "print(cost)"
   ]
  },
  {
   "cell_type": "code",
   "execution_count": 33,
   "metadata": {},
   "outputs": [
    {
     "data": {
      "text/plain": [
       "tensor(0.6931, grad_fn=<BinaryCrossEntropyBackward>)"
      ]
     },
     "execution_count": 33,
     "metadata": {},
     "output_type": "execute_result"
    }
   ],
   "source": [
    "# 지금까지 적은 수식들을 한 번에 해결.\n",
    "F.binary_cross_entropy(hypothesis,y_train)"
   ]
  },
  {
   "cell_type": "code",
   "execution_count": 35,
   "metadata": {
    "scrolled": true
   },
   "outputs": [
    {
     "name": "stdout",
     "output_type": "stream",
     "text": [
      "Epoch    0/1000 hypothesis: tensor([0.5000, 0.5000, 0.5000, 0.5000, 0.5000, 0.5000]) Cost:  0.693147\n",
      "Epoch  100/1000 hypothesis: tensor([0.0245, 0.1484, 0.2770, 0.7954, 0.9484, 0.9834]) Cost:  0.134722\n",
      "Epoch  200/1000 hypothesis: tensor([0.0080, 0.1065, 0.1632, 0.8566, 0.9769, 0.9931]) Cost:  0.080643\n",
      "Epoch  300/1000 hypothesis: tensor([0.0037, 0.0822, 0.1161, 0.8888, 0.9869, 0.9965]) Cost:  0.057900\n",
      "Epoch  400/1000 hypothesis: tensor([0.0021, 0.0669, 0.0902, 0.9090, 0.9916, 0.9979]) Cost:  0.045300\n",
      "Epoch  500/1000 hypothesis: tensor([0.0013, 0.0564, 0.0739, 0.9229, 0.9941, 0.9986]) Cost:  0.037261\n",
      "Epoch  600/1000 hypothesis: tensor([8.7256e-04, 4.8759e-02, 6.2629e-02, 9.3312e-01, 9.9567e-01, 9.9906e-01]) Cost:  0.031672\n",
      "Epoch  700/1000 hypothesis: tensor([6.2087e-04, 4.2945e-02, 5.4368e-02, 9.4091e-01, 9.9668e-01, 9.9932e-01]) Cost:  0.027556\n",
      "Epoch  800/1000 hypothesis: tensor([4.6039e-04, 3.8371e-02, 4.8050e-02, 9.4706e-01, 9.9737e-01, 9.9949e-01]) Cost:  0.024394\n",
      "Epoch  900/1000 hypothesis: tensor([3.5258e-04, 3.4679e-02, 4.3059e-02, 9.5205e-01, 9.9786e-01, 9.9961e-01]) Cost:  0.021888\n",
      "Epoch 1000/1000 hypothesis: tensor([2.7711e-04, 3.1636e-02, 3.9014e-02, 9.5618e-01, 9.9823e-01, 9.9969e-01]) Cost:  0.019852\n"
     ]
    }
   ],
   "source": [
    "\n",
    "#모델 초기화\n",
    "W=torch.zeros((2,1),requires_grad=True)\n",
    "b=torch.zeros(1,requires_grad=True)\n",
    "\n",
    "#optimizer 설정\n",
    "optimizer=optim.SGD([W,b],lr=1)\n",
    "\n",
    "nb_epochs=1000\n",
    "for epoch in range(nb_epochs+1):\n",
    "    \n",
    "    hypothesis=torch.sigmoid(x_train.matmul(W)+b)\n",
    "    cost=F.binary_cross_entropy(hypothesis,y_train)\n",
    "    \n",
    "    optimizer.zero_grad()\n",
    "    cost.backward()\n",
    "    optimizer.step()\n",
    "    \n",
    "    #100번마다 로그 출력\n",
    "    if epoch % 100 ==0:\n",
    "        print('Epoch {:4d}/{} hypothesis: {} Cost: {: 6f}'.format(epoch,nb_epochs,hypothesis.squeeze().detach(),cost.item()))\n",
    "    "
   ]
  },
  {
   "cell_type": "code",
   "execution_count": 39,
   "metadata": {},
   "outputs": [
    {
     "name": "stdout",
     "output_type": "stream",
     "text": [
      "tensor([[2.7711e-04],\n",
      "        [3.1636e-02],\n",
      "        [3.9014e-02],\n",
      "        [9.5618e-01],\n",
      "        [9.9823e-01]], grad_fn=<SliceBackward>)\n",
      "tensor([[0],\n",
      "        [0],\n",
      "        [0],\n",
      "        [1],\n",
      "        [1]], dtype=torch.uint8)\n",
      "tensor([[0.],\n",
      "        [0.],\n",
      "        [0.],\n",
      "        [1.],\n",
      "        [1.]])\n",
      "tensor([[1],\n",
      "        [1],\n",
      "        [1],\n",
      "        [1],\n",
      "        [1]], dtype=torch.uint8)\n"
     ]
    }
   ],
   "source": [
    "# 모델의 정확도 확인 Evaluation 과정\n",
    "hypothsis=torch.sigmoid(x_train.matmul(W)+b) # 나중에는 test set을 넣음.\n",
    "\n",
    "print(hypothesis[:5])\n",
    "\n",
    "# 1일 확률이 0.5보다 크면 1이라고 하자.\n",
    "prediction=hypothesis>=torch.FloatTensor([0.5])\n",
    "print(prediction[:5])\n",
    "print(y_train[:5])\n",
    "\n",
    "# 예측이 얼마나 맞는지 확인하자\n",
    "correct_prediction=prediction.float()==y_train\n",
    "print(correct_prediction[:5])"
   ]
  },
  {
   "cell_type": "code",
   "execution_count": 55,
   "metadata": {},
   "outputs": [],
   "source": [
    "class BinaryClassifier(nn.Module):\n",
    "    def __init__(self):\n",
    "        super().__init__()\n",
    "        self.linear = nn.Linear(2, 1) # 오 댓글보고 고침!!\n",
    "        self.sigmoid = nn.Sigmoid()\n",
    "\n",
    "    def forward(self, x):\n",
    "        return self.sigmoid(self.linear(x))"
   ]
  },
  {
   "cell_type": "code",
   "execution_count": 56,
   "metadata": {},
   "outputs": [],
   "source": [
    "model=BinaryClassifier()"
   ]
  },
  {
   "cell_type": "code",
   "execution_count": 57,
   "metadata": {
    "scrolled": true
   },
   "outputs": [
    {
     "name": "stdout",
     "output_type": "stream",
     "text": [
      "Epoch    0/100 Cost: 0.574488 Accuracy 83.33%\n",
      "Epoch   10/100 Cost: 0.498893 Accuracy 66.67%\n",
      "Epoch   20/100 Cost: 0.472237 Accuracy 66.67%\n",
      "Epoch   30/100 Cost: 0.396055 Accuracy 83.33%\n",
      "Epoch   40/100 Cost: 0.336031 Accuracy 83.33%\n",
      "Epoch   50/100 Cost: 0.283760 Accuracy 83.33%\n",
      "Epoch   60/100 Cost: 0.236473 Accuracy 100.00%\n",
      "Epoch   70/100 Cost: 0.194791 Accuracy 100.00%\n",
      "Epoch   80/100 Cost: 0.164508 Accuracy 100.00%\n",
      "Epoch   90/100 Cost: 0.148194 Accuracy 100.00%\n",
      "Epoch  100/100 Cost: 0.137658 Accuracy 100.00%\n"
     ]
    }
   ],
   "source": [
    "# optimizer 설정\n",
    "optimizer = optim.SGD(model.parameters(), lr=1)\n",
    "\n",
    "nb_epochs = 100\n",
    "for epoch in range(nb_epochs + 1):\n",
    "\n",
    "    # H(x) 계산\n",
    "    hypothesis = model(x_train)\n",
    "\n",
    "    # cost 계산\n",
    "    cost = F.binary_cross_entropy(hypothesis, y_train)\n",
    "\n",
    "    # cost로 H(x) 개선\n",
    "    optimizer.zero_grad()\n",
    "    cost.backward()\n",
    "    optimizer.step()\n",
    "    \n",
    "    # 20번마다 로그 출력\n",
    "    if epoch % 10 == 0:\n",
    "        prediction = hypothesis >= torch.FloatTensor([0.5])\n",
    "        correct_prediction = prediction.float() == y_train\n",
    "        accuracy = correct_prediction.sum().item() / len(correct_prediction)\n",
    "        print('Epoch {:4d}/{} Cost: {:.6f} Accuracy {:2.2f}%'.format(\n",
    "            epoch, nb_epochs, cost.item(), accuracy * 100,\n",
    "        ))"
   ]
  },
  {
   "cell_type": "code",
   "execution_count": null,
   "metadata": {},
   "outputs": [],
   "source": []
  }
 ],
 "metadata": {
  "kernelspec": {
   "display_name": "Python 3",
   "language": "python",
   "name": "python3"
  },
  "language_info": {
   "codemirror_mode": {
    "name": "ipython",
    "version": 3
   },
   "file_extension": ".py",
   "mimetype": "text/x-python",
   "name": "python",
   "nbconvert_exporter": "python",
   "pygments_lexer": "ipython3",
   "version": "3.6.7"
  }
 },
 "nbformat": 4,
 "nbformat_minor": 2
}
